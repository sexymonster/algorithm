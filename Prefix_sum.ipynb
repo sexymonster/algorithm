{
  "nbformat": 4,
  "nbformat_minor": 0,
  "metadata": {
    "colab": {
      "provenance": [],
      "toc_visible": true,
      "authorship_tag": "ABX9TyO1oF8Y8S6dGSKQ8tvHy5Zn",
      "include_colab_link": true
    },
    "kernelspec": {
      "name": "python3",
      "display_name": "Python 3"
    },
    "language_info": {
      "name": "python"
    }
  },
  "cells": [
    {
      "cell_type": "markdown",
      "metadata": {
        "id": "view-in-github",
        "colab_type": "text"
      },
      "source": [
        "<a href=\"https://colab.research.google.com/github/sexymonster/algorithm/blob/main/Prefix_sum.ipynb\" target=\"_parent\"><img src=\"https://colab.research.google.com/assets/colab-badge.svg\" alt=\"Open In Colab\"/></a>"
      ]
    },
    {
      "cell_type": "markdown",
      "source": [
        "# 누적합 알고리즘 풀이 코드"
      ],
      "metadata": {
        "id": "RCGr9LzW_GFt"
      }
    },
    {
      "cell_type": "markdown",
      "source": [
        "## baekjoon_11659: 구간 합 구하기 4"
      ],
      "metadata": {
        "id": "UGBOwE3v_Pse"
      }
    },
    {
      "cell_type": "markdown",
      "source": [
        "**문제** : 수 N개가 주어졌을 때, i번째 수부터 j번째 수까지 합을 구하는 프로그램을 작성하시오.\n",
        "\n",
        "**입력** : 첫째 줄에 수의 개수 N과 합을 구해야 하는 횟수 M이 주어진다. 둘째 줄에는 N개의 수가 주어진다. 수는 1,000보다 작거나 같은 자연수이다. 셋째 줄부터 M개의 줄에는 합을 구해야 하는 구간 i와 j가 주어진다.\n",
        "\n",
        "**출력** : 총 M개의 줄에 입력으로 주어진 i번째 수부터 j번째 수까지 합을 출력한다.\n",
        "\n",
        "**제한** :\n",
        "- 1 ≤ N ≤ 100,000\n",
        "- 1 ≤ M ≤ 100,000\n",
        "- 1 ≤ i ≤ j ≤ N"
      ],
      "metadata": {
        "id": "qirWqovm_t5X"
      }
    },
    {
      "cell_type": "code",
      "source": [
        "\"\"\"입력\n",
        "5 3\n",
        "5 4 3 2 1\n",
        "1 3\n",
        "2 4\n",
        "5 5\n",
        "\"\"\""
      ],
      "metadata": {
        "colab": {
          "base_uri": "https://localhost:8080/",
          "height": 35
        },
        "id": "NJwknV9XBEA6",
        "outputId": "842a6db4-6cec-4c70-b7fd-0350f34beb46"
      },
      "execution_count": null,
      "outputs": [
        {
          "output_type": "execute_result",
          "data": {
            "text/plain": [
              "'입력\\n5 3\\n5 4 3 2 1\\n1 3\\n2 4\\n5 5\\n'"
            ],
            "application/vnd.google.colaboratory.intrinsic+json": {
              "type": "string"
            }
          },
          "metadata": {},
          "execution_count": 3
        }
      ]
    },
    {
      "cell_type": "code",
      "source": [
        "import sys\n",
        "input = sys.stdin.readline\n",
        "\n",
        "n,m = map(int,input().split())\n",
        "a = [0] + list(map(int,input().split()))\n",
        "s = [0]*(n+1)\n",
        "for i in range(1, n+1):\n",
        "    s[i] = s[i-1] + a[i]\n",
        "for _ in range(m):\n",
        "    x,y = map(int,input().split())\n",
        "    print(s[y]-s[x-1])"
      ],
      "metadata": {
        "colab": {
          "base_uri": "https://localhost:8080/",
          "height": 244
        },
        "id": "b66k89GkATob",
        "outputId": "eaba9e87-e054-4503-afb2-1f4c10116763"
      },
      "execution_count": null,
      "outputs": [
        {
          "output_type": "error",
          "ename": "ValueError",
          "evalue": "ignored",
          "traceback": [
            "\u001b[0;31m---------------------------------------------------------------------------\u001b[0m",
            "\u001b[0;31mValueError\u001b[0m                                Traceback (most recent call last)",
            "\u001b[0;32m<ipython-input-4-533f862b6081>\u001b[0m in \u001b[0;36m<module>\u001b[0;34m\u001b[0m\n\u001b[1;32m      2\u001b[0m \u001b[0minput\u001b[0m \u001b[0;34m=\u001b[0m \u001b[0msys\u001b[0m\u001b[0;34m.\u001b[0m\u001b[0mstdin\u001b[0m\u001b[0;34m.\u001b[0m\u001b[0mreadline\u001b[0m\u001b[0;34m\u001b[0m\u001b[0;34m\u001b[0m\u001b[0m\n\u001b[1;32m      3\u001b[0m \u001b[0;34m\u001b[0m\u001b[0m\n\u001b[0;32m----> 4\u001b[0;31m \u001b[0mn\u001b[0m\u001b[0;34m,\u001b[0m\u001b[0mm\u001b[0m \u001b[0;34m=\u001b[0m \u001b[0mmap\u001b[0m\u001b[0;34m(\u001b[0m\u001b[0mint\u001b[0m\u001b[0;34m,\u001b[0m\u001b[0minput\u001b[0m\u001b[0;34m(\u001b[0m\u001b[0;34m)\u001b[0m\u001b[0;34m.\u001b[0m\u001b[0msplit\u001b[0m\u001b[0;34m(\u001b[0m\u001b[0;34m)\u001b[0m\u001b[0;34m)\u001b[0m\u001b[0;34m\u001b[0m\u001b[0;34m\u001b[0m\u001b[0m\n\u001b[0m\u001b[1;32m      5\u001b[0m \u001b[0ma\u001b[0m \u001b[0;34m=\u001b[0m \u001b[0;34m[\u001b[0m\u001b[0;36m0\u001b[0m\u001b[0;34m]\u001b[0m \u001b[0;34m+\u001b[0m \u001b[0mlist\u001b[0m\u001b[0;34m(\u001b[0m\u001b[0mmap\u001b[0m\u001b[0;34m(\u001b[0m\u001b[0mint\u001b[0m\u001b[0;34m,\u001b[0m\u001b[0minput\u001b[0m\u001b[0;34m(\u001b[0m\u001b[0;34m)\u001b[0m\u001b[0;34m.\u001b[0m\u001b[0msplit\u001b[0m\u001b[0;34m(\u001b[0m\u001b[0;34m)\u001b[0m\u001b[0;34m)\u001b[0m\u001b[0;34m)\u001b[0m\u001b[0;34m\u001b[0m\u001b[0;34m\u001b[0m\u001b[0m\n\u001b[1;32m      6\u001b[0m \u001b[0ms\u001b[0m \u001b[0;34m=\u001b[0m \u001b[0;34m[\u001b[0m\u001b[0;36m0\u001b[0m\u001b[0;34m]\u001b[0m\u001b[0;34m*\u001b[0m\u001b[0;34m(\u001b[0m\u001b[0mn\u001b[0m\u001b[0;34m+\u001b[0m\u001b[0;36m1\u001b[0m\u001b[0;34m)\u001b[0m\u001b[0;34m\u001b[0m\u001b[0;34m\u001b[0m\u001b[0m\n",
            "\u001b[0;31mValueError\u001b[0m: not enough values to unpack (expected 2, got 0)"
          ]
        }
      ]
    },
    {
      "cell_type": "markdown",
      "source": [
        "**메모리** 41,316KB    **시간** 236ms"
      ],
      "metadata": {
        "id": "BAf1aKE_B3tp"
      }
    },
    {
      "cell_type": "markdown",
      "source": [
        "## baekjoon_2559: 수열"
      ],
      "metadata": {
        "id": "IQfxwFasCMGe"
      }
    },
    {
      "cell_type": "markdown",
      "source": [
        "**문제** : 매일 측정한 온도가 정수의 수열로 주어졌을 때, 연속적인 며칠 동안의 온도의 합이 가장 큰 값을 계산하는 프로그램을 작성하시오. \n",
        "\n",
        "**입력** : 첫째 줄에는 두 개의 정수 N과 K가 한 개의 공백을 사이에 두고 순서대로 주어진다. 첫 번째 정수 N은 온도를 측정한 전체 날짜의 수이다. 두 번째 정수 K는 합을 구하기 위한 연속적인 날짜의 수이다. 둘째 줄에는 매일 측정한 온도를 나타내는 N개의 정수가 빈칸을 사이에 두고 주어진다.\n",
        "\n",
        "**출력** : 첫째 줄에는 입력되는 온도의 수열에서 연속적인 K일의 온도의 합이 최대가 되는 값을 출력한다.\n",
        "\n",
        "**제한** :\n",
        "- 2 ≤ N ≤ 100,000\n",
        "- 1 ≤ K ≤ N\n",
        "-  -100 ≤ n ≤ 100"
      ],
      "metadata": {
        "id": "7W6QSUE1CLso"
      }
    },
    {
      "cell_type": "code",
      "source": [
        "\"\"\"\n",
        "입력1\n",
        "10 2\n",
        "3 -2 -4 -9 0 3 7 13 8 -3\n",
        "\n",
        "출력1\n",
        "21\n",
        "\"\"\""
      ],
      "metadata": {
        "colab": {
          "base_uri": "https://localhost:8080/",
          "height": 35
        },
        "id": "HfOkahMCBWug",
        "outputId": "e4f85663-5720-47f9-a37a-6fbd811cb007"
      },
      "execution_count": null,
      "outputs": [
        {
          "output_type": "execute_result",
          "data": {
            "text/plain": [
              "'\\n입력1\\n10 2\\n3 -2 -4 -9 0 3 7 13 8 -3\\n\\n출력1\\n21\\n'"
            ],
            "application/vnd.google.colaboratory.intrinsic+json": {
              "type": "string"
            }
          },
          "metadata": {},
          "execution_count": 5
        }
      ]
    },
    {
      "cell_type": "code",
      "source": [
        "\"\"\"\n",
        "입력2\n",
        "10 5\n",
        "3 -2 -4 -9 0 3 7 13 8 -3\n",
        "\n",
        "출력2\n",
        "31\n",
        "\"\"\""
      ],
      "metadata": {
        "colab": {
          "base_uri": "https://localhost:8080/",
          "height": 35
        },
        "id": "ZZDM7cVrDmD-",
        "outputId": "1faf3191-3823-4760-c869-1893a228c42a"
      },
      "execution_count": null,
      "outputs": [
        {
          "output_type": "execute_result",
          "data": {
            "text/plain": [
              "'\\n입력2\\n10 5\\n3 -2 -4 -9 0 3 7 13 8 -3\\n\\n출력2\\n31\\n'"
            ],
            "application/vnd.google.colaboratory.intrinsic+json": {
              "type": "string"
            }
          },
          "metadata": {},
          "execution_count": 6
        }
      ]
    },
    {
      "cell_type": "code",
      "source": [
        "import sys\n",
        "input = sys.stdin.readline\n",
        "\n",
        "n,k = map(int, input().split())\n",
        "a = [0] + list(map(int, input().split()))\n",
        "s = [0] * (n+1)\n",
        "for i in range(1,n+1):\n",
        "  s[i] = s[i-1] + a[i]\n",
        "list_sum = [int(s[i+k] - s[i]) for i in range(0,n-k+1)]\n",
        "print(max(list_sum))"
      ],
      "metadata": {
        "colab": {
          "base_uri": "https://localhost:8080/",
          "height": 244
        },
        "id": "EMDQgLPcDtV3",
        "outputId": "7ecacc85-a901-407c-ea62-4a611a85dab4"
      },
      "execution_count": null,
      "outputs": [
        {
          "output_type": "error",
          "ename": "ValueError",
          "evalue": "ignored",
          "traceback": [
            "\u001b[0;31m---------------------------------------------------------------------------\u001b[0m",
            "\u001b[0;31mValueError\u001b[0m                                Traceback (most recent call last)",
            "\u001b[0;32m<ipython-input-5-11ddd35fa0b6>\u001b[0m in \u001b[0;36m<module>\u001b[0;34m\u001b[0m\n\u001b[1;32m      2\u001b[0m \u001b[0minput\u001b[0m \u001b[0;34m=\u001b[0m \u001b[0msys\u001b[0m\u001b[0;34m.\u001b[0m\u001b[0mstdin\u001b[0m\u001b[0;34m.\u001b[0m\u001b[0mreadline\u001b[0m\u001b[0;34m\u001b[0m\u001b[0;34m\u001b[0m\u001b[0m\n\u001b[1;32m      3\u001b[0m \u001b[0;34m\u001b[0m\u001b[0m\n\u001b[0;32m----> 4\u001b[0;31m \u001b[0mn\u001b[0m\u001b[0;34m,\u001b[0m\u001b[0mk\u001b[0m \u001b[0;34m=\u001b[0m \u001b[0mmap\u001b[0m\u001b[0;34m(\u001b[0m\u001b[0mint\u001b[0m\u001b[0;34m,\u001b[0m \u001b[0minput\u001b[0m\u001b[0;34m(\u001b[0m\u001b[0;34m)\u001b[0m\u001b[0;34m.\u001b[0m\u001b[0msplit\u001b[0m\u001b[0;34m(\u001b[0m\u001b[0;34m)\u001b[0m\u001b[0;34m)\u001b[0m\u001b[0;34m\u001b[0m\u001b[0;34m\u001b[0m\u001b[0m\n\u001b[0m\u001b[1;32m      5\u001b[0m \u001b[0ma\u001b[0m \u001b[0;34m=\u001b[0m \u001b[0;34m[\u001b[0m\u001b[0;36m0\u001b[0m\u001b[0;34m]\u001b[0m \u001b[0;34m+\u001b[0m \u001b[0mlist\u001b[0m\u001b[0;34m(\u001b[0m\u001b[0mmap\u001b[0m\u001b[0;34m(\u001b[0m\u001b[0mint\u001b[0m\u001b[0;34m,\u001b[0m \u001b[0minput\u001b[0m\u001b[0;34m(\u001b[0m\u001b[0;34m)\u001b[0m\u001b[0;34m.\u001b[0m\u001b[0msplit\u001b[0m\u001b[0;34m(\u001b[0m\u001b[0;34m)\u001b[0m\u001b[0;34m)\u001b[0m\u001b[0;34m)\u001b[0m\u001b[0;34m\u001b[0m\u001b[0;34m\u001b[0m\u001b[0m\n\u001b[1;32m      6\u001b[0m \u001b[0ms\u001b[0m \u001b[0;34m=\u001b[0m \u001b[0;34m[\u001b[0m\u001b[0;36m0\u001b[0m\u001b[0;34m]\u001b[0m \u001b[0;34m*\u001b[0m \u001b[0;34m(\u001b[0m\u001b[0mn\u001b[0m\u001b[0;34m+\u001b[0m\u001b[0;36m1\u001b[0m\u001b[0;34m)\u001b[0m\u001b[0;34m\u001b[0m\u001b[0;34m\u001b[0m\u001b[0m\n",
            "\u001b[0;31mValueError\u001b[0m: not enough values to unpack (expected 2, got 0)"
          ]
        }
      ]
    },
    {
      "cell_type": "markdown",
      "source": [
        "**메모리** 40,292KB    **시간** 92ms"
      ],
      "metadata": {
        "id": "kmdLVfnD6qbW"
      }
    },
    {
      "cell_type": "markdown",
      "source": [
        "## baekjoon_16139: 인간-컴퓨터 상호작용"
      ],
      "metadata": {
        "id": "dpNOJnrU8PFS"
      }
    },
    {
      "cell_type": "markdown",
      "source": [
        "**문제** : 특정 문자열 S, 특정 알파벳 a와 문자열의 구간 [l,r]이 주어지면 S의 l번째 문자부터 r번째 문자 사이에 a가 몇 번 나타나는지 구하는 프로그램을 작성하여라.\n",
        "\n",
        "**입력** : 첫 줄에 문자열 S가 주어진다. 문자열의 길이는 200,000자 이하이며 알파벳 소문자로만 구성되었다. 두 번째 줄에는 질문의 수 q가 주어진다. 세 번째 줄부터 \n",
        "$(q+2)$번째 줄에는 질문이 주어진다. 각 질문은 알파벳 소문자 \n",
        "$a_i$와 \n",
        "$0\\leq l_i\\leq r_i<|S|$를 만족하는 정수 \n",
        "$l_i,r_i$가 공백으로 구분되어 주어진다.\n",
        "\n",
        "**출력** : 각 질문마다 줄을 구분해 순서대로 답변한다. \n",
        "$i$번째 줄에 \n",
        "$S$의 \n",
        "$l_i$번째 문자부터 \n",
        "$r_i$번째 문자 사이에 \n",
        "$a_i$가 나타나는 횟수를 출력한다.\n",
        "\n",
        "**제한** :\n",
        "- 1 ≤ q ≤ 200,000\n"
      ],
      "metadata": {
        "id": "YNwzliuJ8hGG"
      }
    },
    {
      "cell_type": "code",
      "source": [
        "\"\"\"입력\n",
        "seungjaehwang\n",
        "4\n",
        "a 0 5\n",
        "a 0 6\n",
        "a 6 10\n",
        "a 7 10\n",
        "출력\n",
        "0\n",
        "1\n",
        "2\n",
        "1\n",
        "\"\"\""
      ],
      "metadata": {
        "colab": {
          "base_uri": "https://localhost:8080/",
          "height": 35
        },
        "id": "6zsiASYTQZuy",
        "outputId": "39edca20-554d-4759-8613-23cc8aee1f8e"
      },
      "execution_count": null,
      "outputs": [
        {
          "output_type": "execute_result",
          "data": {
            "text/plain": [
              "'입력\\nseungjaehwang\\n4\\na 0 5\\na 0 6\\na 6 10\\na 7 10\\n출력\\n0\\n1\\n2\\n1\\n'"
            ],
            "application/vnd.google.colaboratory.intrinsic+json": {
              "type": "string"
            }
          },
          "metadata": {},
          "execution_count": 6
        }
      ]
    },
    {
      "cell_type": "code",
      "source": [
        "import sys\n",
        "input = sys.stdin.readline\n",
        "arr = input()\n",
        "# arr = \"seungjaehwang\"\n",
        "m = map(int, input())\n",
        "s = [0] * len(arr)\n",
        "for _ in range(m):\n",
        "  lis = input().split()\n",
        "  alp = lis[0]\n",
        "  arr.find_all(alp)\n",
        "  l = int(lis[1])\n",
        "  r = int(lis[2])\n"
      ],
      "metadata": {
        "colab": {
          "base_uri": "https://localhost:8080/",
          "height": 244
        },
        "id": "04JyfjVh-KA9",
        "outputId": "24a3d331-00a5-42c7-94df-d30fbc7b159a"
      },
      "execution_count": 1,
      "outputs": [
        {
          "output_type": "error",
          "ename": "TypeError",
          "evalue": "ignored",
          "traceback": [
            "\u001b[0;31m---------------------------------------------------------------------------\u001b[0m",
            "\u001b[0;31mTypeError\u001b[0m                                 Traceback (most recent call last)",
            "\u001b[0;32m<ipython-input-1-2f80c5c65c33>\u001b[0m in \u001b[0;36m<module>\u001b[0;34m\u001b[0m\n\u001b[1;32m      5\u001b[0m \u001b[0mm\u001b[0m \u001b[0;34m=\u001b[0m \u001b[0mmap\u001b[0m\u001b[0;34m(\u001b[0m\u001b[0mint\u001b[0m\u001b[0;34m,\u001b[0m \u001b[0minput\u001b[0m\u001b[0;34m(\u001b[0m\u001b[0;34m)\u001b[0m\u001b[0;34m)\u001b[0m\u001b[0;34m\u001b[0m\u001b[0;34m\u001b[0m\u001b[0m\n\u001b[1;32m      6\u001b[0m \u001b[0ms\u001b[0m \u001b[0;34m=\u001b[0m \u001b[0;34m[\u001b[0m\u001b[0;36m0\u001b[0m\u001b[0;34m]\u001b[0m \u001b[0;34m*\u001b[0m \u001b[0mlen\u001b[0m\u001b[0;34m(\u001b[0m\u001b[0marr\u001b[0m\u001b[0;34m)\u001b[0m\u001b[0;34m\u001b[0m\u001b[0;34m\u001b[0m\u001b[0m\n\u001b[0;32m----> 7\u001b[0;31m \u001b[0;32mfor\u001b[0m \u001b[0m_\u001b[0m \u001b[0;32min\u001b[0m \u001b[0mrange\u001b[0m\u001b[0;34m(\u001b[0m\u001b[0mm\u001b[0m\u001b[0;34m)\u001b[0m\u001b[0;34m:\u001b[0m\u001b[0;34m\u001b[0m\u001b[0;34m\u001b[0m\u001b[0m\n\u001b[0m\u001b[1;32m      8\u001b[0m   \u001b[0mlis\u001b[0m \u001b[0;34m=\u001b[0m \u001b[0minput\u001b[0m\u001b[0;34m(\u001b[0m\u001b[0;34m)\u001b[0m\u001b[0;34m.\u001b[0m\u001b[0msplit\u001b[0m\u001b[0;34m(\u001b[0m\u001b[0;34m)\u001b[0m\u001b[0;34m\u001b[0m\u001b[0;34m\u001b[0m\u001b[0m\n\u001b[1;32m      9\u001b[0m   \u001b[0malp\u001b[0m \u001b[0;34m=\u001b[0m \u001b[0mlis\u001b[0m\u001b[0;34m[\u001b[0m\u001b[0;36m0\u001b[0m\u001b[0;34m]\u001b[0m\u001b[0;34m\u001b[0m\u001b[0;34m\u001b[0m\u001b[0m\n",
            "\u001b[0;31mTypeError\u001b[0m: 'map' object cannot be interpreted as an integer"
          ]
        }
      ]
    },
    {
      "cell_type": "code",
      "source": [],
      "metadata": {
        "id": "TIyhgEoj-k9z"
      },
      "execution_count": null,
      "outputs": []
    },
    {
      "cell_type": "markdown",
      "source": [
        "## baekjoon_16139: 나머지 합"
      ],
      "metadata": {
        "id": "DEkM8cxfElYu"
      }
    },
    {
      "cell_type": "markdown",
      "source": [
        "**문제** : 수 N개 A1, A2, ..., AN이 주어진다. 이때, 연속된 부분 구간의 합이 M으로 나누어 떨어지는 구간의 개수를 구하는 프로그램을 작성하시오.\n",
        "\n",
        "즉, Ai + ... + Aj (i ≤ j) 의 합이 M으로 나누어 떨어지는 (i, j) 쌍의 개수를 구해야 한다.\n",
        "\n",
        "**입력** : 첫째 줄에 N과 M이 주어진다.\n",
        "\n",
        "둘째 줄에 N개의 수 A1, A2, ..., AN이 주어진다. (0 ≤ Ai ≤ 109)\n",
        "\n",
        "**출력** : 첫째 줄에 연속된 부분 구간의 합이 M으로 나누어 떨어지는 구간의 개수를 출력한다.\n",
        "\n",
        "**제한** :\n",
        "- 1 ≤ N ≤ 1,000,000\n",
        "- 2 ≤ M ≤ 1,000\n",
        "- 1 ≤ i ≤ j ≤ N"
      ],
      "metadata": {
        "id": "r8-oWxdmElUw"
      }
    },
    {
      "cell_type": "code",
      "source": [
        "\"\"\"입력\n",
        "5 3\n",
        "1 2 3 1 2\n",
        "\"\"\""
      ],
      "metadata": {
        "colab": {
          "base_uri": "https://localhost:8080/",
          "height": 35
        },
        "id": "dU9jnWumFUdC",
        "outputId": "ae01507c-58a0-4dc0-9681-6f1b3ff10a7b"
      },
      "execution_count": null,
      "outputs": [
        {
          "output_type": "execute_result",
          "data": {
            "text/plain": [
              "'입력\\n5 3\\n1 2 3 1 2\\n'"
            ],
            "application/vnd.google.colaboratory.intrinsic+json": {
              "type": "string"
            }
          },
          "metadata": {},
          "execution_count": 14
        }
      ]
    },
    {
      "cell_type": "code",
      "source": [
        "import sys\n",
        "input = sys.stdin.readline\n",
        "input1 = \"5 3\"\n",
        "input2 = \"1 2 3 1 2\"\n",
        "\n",
        "n, m = map(int, input1.split())\n",
        "a = [0] + list(map(int, input2.split()))\n",
        "s = [0] * (n+1)\n",
        "\n",
        "for i in range(1,n+1):\n",
        "  s[i] = s[i-1] + a[i]\n",
        "s.pop(0)\n",
        "\n",
        "ans = 0\n",
        "for i in range(n):\n",
        "  for j in range(n-i):\n",
        "      if (s[j] -s[i]) % m == 0:\n",
        "        ans += 1\n",
        "print(ans)"
      ],
      "metadata": {
        "colab": {
          "base_uri": "https://localhost:8080/"
        },
        "id": "E_LkBASeFYp0",
        "outputId": "6d14d0d5-ec25-498e-a35c-6ad066992f17"
      },
      "execution_count": null,
      "outputs": [
        {
          "output_type": "stream",
          "name": "stdout",
          "text": [
            "7\n"
          ]
        }
      ]
    },
    {
      "cell_type": "code",
      "source": [
        "import sys\n",
        "input = sys.stdin.readline\n",
        "\n",
        "n, m = map(int, input().split())\n",
        "a = [0] + list(map(int, input().split()))\n",
        "s = [0] * (n+1)\n",
        "\n",
        "for i in range(1,n+1):\n",
        "  s[i] = s[i-1] + a[i]\n",
        "s.pop(0)\n",
        "\n",
        "ans = 0\n",
        "for i in range(n):\n",
        "  for j in range(n-i):\n",
        "      if (s[j] -s[i]) % m == 0:\n",
        "        ans += 1\n",
        "print(ans)"
      ],
      "metadata": {
        "id": "syT3aCtXGcBM"
      },
      "execution_count": null,
      "outputs": []
    }
  ]
}